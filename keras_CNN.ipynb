{
  "nbformat": 4,
  "nbformat_minor": 0,
  "metadata": {
    "colab": {
      "name": "keras-CNN.ipynb",
      "provenance": [],
      "collapsed_sections": [],
      "toc_visible": true
    },
    "kernelspec": {
      "name": "python3",
      "display_name": "Python 3"
    },
    "language_info": {
      "name": "python"
    }
  },
  "cells": [
    {
      "cell_type": "markdown",
      "metadata": {
        "id": "wMsNi3huLHWp"
      },
      "source": [
        "# CNN Keras"
      ]
    },
    {
      "cell_type": "markdown",
      "metadata": {
        "id": "cBwOf8lgLM3I"
      },
      "source": [
        "## Introduction\n",
        "\n",
        "We build a Sequentital Convolutional Neural Network for digits recognition. The network has 5 layers and is trained on the MNIST dataset. We build this CNN using the Keras API.\n",
        "\n",
        "Note: for computational reasons, the epochs is set to 2. If you wish to achieve 99%+ accuracy, set epochs to 30."
      ]
    },
    {
      "cell_type": "code",
      "metadata": {
        "id": "2iyvn5wFKetY",
        "colab": {
          "base_uri": "https://localhost:8080/"
        },
        "outputId": "76f4add4-057c-4c5e-de3e-09eb2701dd9e"
      },
      "source": [
        "# Loading required libraries\n",
        "import numpy as np\n",
        "import pandas as pd\n",
        "import matplotlib.pyplot as plt\n",
        "import matplotlib.image as mpimg\n",
        "import seaborn as sns\n",
        "%matplotlib inline\n",
        "\n",
        "RAND_SEED = 2\n",
        "np.random.seed(2)\n",
        "\n",
        "from sklearn.model_selection import train_test_split\n",
        "from sklearn.metrics import confusion_matrix\n",
        "import itertools\n",
        "\n",
        "from keras.models import Sequential\n",
        "from keras.layers import Dense, Dropout, Flatten, Conv2D, MaxPool2D\n",
        "from keras.optimizers import RMSprop\n",
        "from keras.preprocessing.image import ImageDataGenerator\n",
        "from keras.callbacks import ReduceLROnPlateau\n",
        "from keras.utils.np_utils import to_categorical # for one-hot-encoding\n",
        "\n",
        "from google.colab import drive\n",
        "drive.mount(\"/drive\")"
      ],
      "execution_count": 15,
      "outputs": [
        {
          "output_type": "stream",
          "text": [
            "Drive already mounted at /drive; to attempt to forcibly remount, call drive.mount(\"/drive\", force_remount=True).\n"
          ],
          "name": "stdout"
        }
      ]
    },
    {
      "cell_type": "markdown",
      "metadata": {
        "id": "dBKcwwjdMqp9"
      },
      "source": [
        "## Data Preparation"
      ]
    },
    {
      "cell_type": "code",
      "metadata": {
        "id": "_3UhuZMeMvFE"
      },
      "source": [
        "# Loading datasets\n",
        "train, test = pd.read_csv(\"/drive/My Drive/input/train.csv\"), pd.read_csv(\"/drive/My Drive/input/test.csv\")"
      ],
      "execution_count": 16,
      "outputs": []
    },
    {
      "cell_type": "code",
      "metadata": {
        "id": "SUG8KX8zNEIc",
        "colab": {
          "base_uri": "https://localhost:8080/",
          "height": 520
        },
        "outputId": "e437a7e1-f617-44b9-c406-3e78cbf8d789"
      },
      "source": [
        "y_train = train[\"label\"]\n",
        "\n",
        "X_train = train.drop(labels = [\"label\"], axis = 1)\n",
        "\n",
        "g = sns.countplot(y_train)\n",
        "y_train.value_counts()"
      ],
      "execution_count": 17,
      "outputs": [
        {
          "output_type": "stream",
          "text": [
            "/usr/local/lib/python3.7/dist-packages/seaborn/_decorators.py:43: FutureWarning: Pass the following variable as a keyword arg: x. From version 0.12, the only valid positional argument will be `data`, and passing other arguments without an explicit keyword will result in an error or misinterpretation.\n",
            "  FutureWarning\n"
          ],
          "name": "stderr"
        },
        {
          "output_type": "execute_result",
          "data": {
            "text/plain": [
              "1    4684\n",
              "7    4401\n",
              "3    4351\n",
              "9    4188\n",
              "2    4177\n",
              "6    4137\n",
              "0    4132\n",
              "4    4072\n",
              "8    4063\n",
              "5    3795\n",
              "Name: label, dtype: int64"
            ]
          },
          "metadata": {
            "tags": []
          },
          "execution_count": 17
        },
        {
          "output_type": "display_data",
          "data": {
            "image/png": "[encoded data removed]",
            "text/plain": [
              "<Figure size 432x288 with 1 Axes>"
            ]
          },
          "metadata": {
            "tags": [],
            "needs_background": "light"
          }
        }
      ]
    },
    {
      "cell_type": "markdown",
      "metadata": {
        "id": "hFBc0nrROTv6"
      },
      "source": [
        "### Checking Null / Missing Values\n",
        "\n",
        "We check for corrupted images (images that contain missing values within). As a result there is no missing values in datasets `train` and `test`."
      ]
    },
    {
      "cell_type": "code",
      "metadata": {
        "id": "z-xQR23TORt-",
        "colab": {
          "base_uri": "https://localhost:8080/"
        },
        "outputId": "a7895208-8218-4fbc-84fa-19809cd4e191"
      },
      "source": [
        "# Check train null/missing values\n",
        "X_train.isnull().any().describe()"
      ],
      "execution_count": 18,
      "outputs": [
        {
          "output_type": "execute_result",
          "data": {
            "text/plain": [
              "count       784\n",
              "unique        1\n",
              "top       False\n",
              "freq        784\n",
              "dtype: object"
            ]
          },
          "metadata": {
            "tags": []
          },
          "execution_count": 18
        }
      ]
    },
    {
      "cell_type": "code",
      "metadata": {
        "id": "tUDG0Sa2OwjQ",
        "colab": {
          "base_uri": "https://localhost:8080/"
        },
        "outputId": "df480849-8005-411d-f01e-35c31347f200"
      },
      "source": [
        "test.isnull().any().describe()"
      ],
      "execution_count": 19,
      "outputs": [
        {
          "output_type": "execute_result",
          "data": {
            "text/plain": [
              "count       784\n",
              "unique        1\n",
              "top       False\n",
              "freq        784\n",
              "dtype: object"
            ]
          },
          "metadata": {
            "tags": []
          },
          "execution_count": 19
        }
      ]
    },
    {
      "cell_type": "markdown",
      "metadata": {
        "id": "VF60aW-FPHxH"
      },
      "source": [
        "### Normalization\n",
        "\n",
        "We perform a grayscale normalization to reduce the effect of illumination's differences, such that the CNN achieves faster convergence. Note that the CNN converges faster on [0..1] than on [0..255]."
      ]
    },
    {
      "cell_type": "code",
      "metadata": {
        "id": "tuF7yl_lPYjv"
      },
      "source": [
        "# Normalize data\n",
        "X_train /= 255.0\n",
        "test /= 255.0\n",
        "\n",
        "# Reshape images to vectors\n",
        "X_train, test = X_train.values.reshape(-1, 28, 28, 1), test.values.reshape(-1, 28, 28, 1)"
      ],
      "execution_count": 20,
      "outputs": []
    },
    {
      "cell_type": "markdown",
      "metadata": {
        "id": "GtjV_V_xs1ps"
      },
      "source": [
        "### Label Encoding\n",
        "The original images were labeled with digits (e.g. image 8 is labeled with '8'). We encode them to one-hot vectors. For instance, image 8 is labeled as vector [0, 0, 0, 0, 0, 0, 0, 0, 1, 0]."
      ]
    },
    {
      "cell_type": "code",
      "metadata": {
        "id": "e_bLn9n-t8j2"
      },
      "source": [
        "y_train = to_categorical(y_train, num_classes = 10)"
      ],
      "execution_count": 21,
      "outputs": []
    },
    {
      "cell_type": "markdown",
      "metadata": {
        "id": "Bg1h7_XGuEUY"
      },
      "source": [
        "### Splitting Training Set for Validation\n"
      ]
    },
    {
      "cell_type": "code",
      "metadata": {
        "id": "2HDKnYtfucon"
      },
      "source": [
        "X_train, X_val, y_train, y_val = train_test_split(X_train, y_train, test_size = 0.1, random_state = RAND_SEED)"
      ],
      "execution_count": 22,
      "outputs": []
    },
    {
      "cell_type": "markdown",
      "metadata": {
        "id": "ejA9DW-cu4P8"
      },
      "source": [
        "### Some Samples from Data"
      ]
    },
    {
      "cell_type": "code",
      "metadata": {
        "id": "TqjL0-xuu7_t",
        "colab": {
          "base_uri": "https://localhost:8080/",
          "height": 282
        },
        "outputId": "3a926451-e44c-44fa-e1ca-1d0093dea2b2"
      },
      "source": [
        "plt.imshow(X_train[6][:,:,0])"
      ],
      "execution_count": 23,
      "outputs": [
        {
          "output_type": "execute_result",
          "data": {
            "text/plain": [
              "<matplotlib.image.AxesImage at 0x7f39e9fd82d0>"
            ]
          },
          "metadata": {
            "tags": []
          },
          "execution_count": 23
        },
        {
          "output_type": "display_data",
          "data": {
            "image/png": "[encoded data removed]",
            "text/plain": [
              "<Figure size 432x288 with 1 Axes>"
            ]
          },
          "metadata": {
            "tags": [],
            "needs_background": "light"
          }
        }
      ]
    },
    {
      "cell_type": "markdown",
      "metadata": {
        "id": "XoYMgoC2wWPx"
      },
      "source": [
        "## CNN\n",
        "### Defining the Model"
      ]
    },
    {
      "cell_type": "code",
      "metadata": {
        "id": "IYh4GIDpwd-G"
      },
      "source": [
        "# Initialize the CNN Model\n",
        "# Model Architechture: 2 * [2 * [Conv2D -> relu] -> MaxPool2D -> Dropout] -> Flatten -> Dense -> Dropout -> Output]\n",
        "model = Sequential()\n",
        "\n",
        "########################################################################\n",
        "# First 2 * [Conv2D -> relu] -> MaxPool2D -> Dropout\n",
        "\n",
        "# 2 * Conv2D -> Relu Layers\n",
        "model.add(Conv2D(filters = 32, kernel_size = (5, 5), padding = \"Same\", activation = \"relu\", input_shape = (28, 28, 1)))\n",
        "model.add(Conv2D(filters = 32, kernel_size = (5, 5), padding = \"Same\", activation = \"relu\", input_shape = (28, 28, 1)))\n",
        "\n",
        "# MaxPool 2D Layer\n",
        "model.add(MaxPool2D(pool_size = (2, 2)))\n",
        "\n",
        "# Dropout Layer\n",
        "model.add(Dropout(0.25))\n",
        "\n",
        "########################################################################\n",
        "# Second 2 * [Conv2D -> relu] -> MaxPool2D -> Dropout\n",
        "\n",
        "# 2 * Conv2D -> Relu Layers\n",
        "model.add(Conv2D(filters = 64, kernel_size = (3, 3), padding = \"Same\", activation = \"relu\", input_shape = (28, 28, 1)))\n",
        "model.add(Conv2D(filters = 64, kernel_size = (3, 3), padding = \"Same\", activation = \"relu\", input_shape = (28, 28, 1)))\n",
        "\n",
        "# MaxPool 2D Layer\n",
        "model.add(MaxPool2D(pool_size = (2, 2), strides = (2, 2)))\n",
        "\n",
        "# Dropout Layer\n",
        "model.add(Dropout(0.25))\n",
        "########################################################################\n",
        "\n",
        "# Flatten Layer\n",
        "model.add(Flatten())\n",
        "\n",
        "# Dense Layer\n",
        "model.add(Dense(256, activation = \"relu\"))\n",
        "\n",
        "# Dropout Layer\n",
        "model.add(Dropout(.5))\n",
        "\n",
        "# Output Softmax\n",
        "model.add(Dense(10, activation = \"softmax\"))\n"
      ],
      "execution_count": 24,
      "outputs": []
    },
    {
      "cell_type": "code",
      "metadata": {
        "id": "yhHPeBpOEf1b"
      },
      "source": [
        "# Defining the optimizer\n",
        "optimizer = RMSprop(learning_rate = .001, rho = .9, epsilon = 1e-8, decay = 0.0)"
      ],
      "execution_count": 25,
      "outputs": []
    },
    {
      "cell_type": "code",
      "metadata": {
        "id": "__mgVwELzLld"
      },
      "source": [
        "# Copiling the model\n",
        "model.compile(optimizer = optimizer, loss = \"categorical_crossentropy\", metrics = [\"accuracy\"])"
      ],
      "execution_count": 26,
      "outputs": []
    },
    {
      "cell_type": "code",
      "metadata": {
        "id": "cBkUn77sEitH"
      },
      "source": [
        "# Setting a learning rate annealer\n",
        "learning_rate_reduction = ReduceLROnPlateau(monitor = \"val_accuracy\",\n",
        "                                            patience = 3,\n",
        "                                            verbose = 1,\n",
        "                                            factor = .5,\n",
        "                                            min_lr = .00001)"
      ],
      "execution_count": 27,
      "outputs": []
    },
    {
      "cell_type": "code",
      "metadata": {
        "id": "FTinFzfjEzqz"
      },
      "source": [
        "# Change epoches to 30 to get .9967 accurary\n",
        "epochs = 30 \n",
        "batch_size = 86"
      ],
      "execution_count": 28,
      "outputs": []
    },
    {
      "cell_type": "markdown",
      "metadata": {
        "id": "I-nsP8SvE64B"
      },
      "source": [
        "## Augmenting Data"
      ]
    },
    {
      "cell_type": "code",
      "metadata": {
        "id": "3N6zIRb4E8ub"
      },
      "source": [
        "datagen = ImageDataGenerator(featurewise_center = False,\n",
        "                             samplewise_center = False,      # set each sample mean to 0\n",
        "                             featurewise_std_normalization = False,\n",
        "                             samplewise_std_normalization = False,\n",
        "                             zca_whitening = False,\n",
        "                             rotation_range = 10,\n",
        "                             zoom_range = .1,\n",
        "                             width_shift_range = .1,\n",
        "                             horizontal_flip = False,\n",
        "                             vertical_flip = False)\n",
        "\n",
        "datagen.fit(X_train)"
      ],
      "execution_count": 29,
      "outputs": []
    },
    {
      "cell_type": "code",
      "metadata": {
        "id": "SIHfbU_fF0ir",
        "colab": {
          "base_uri": "https://localhost:8080/"
        },
        "outputId": "4d53fb4a-a81f-4693-8f20-640a1e3595c4"
      },
      "source": [
        "# Fit the model\n",
        "history = model.fit(datagen.flow(X_train, y_train, batch_size = batch_size),\n",
        "                    epochs = epochs,\n",
        "                    validation_data = (X_val, y_val),\n",
        "                    verbose = 2, steps_per_epoch = X_train.shape[0] // batch_size,\n",
        "                    callbacks = [learning_rate_reduction])"
      ],
      "execution_count": 30,
      "outputs": [
        {
          "output_type": "stream",
          "text": [
            "Epoch 1/30\n",
            "439/439 - 232s - loss: 0.3041 - accuracy: 0.9049 - val_loss: 0.0626 - val_accuracy: 0.9805\n",
            "Epoch 2/30\n",
            "439/439 - 220s - loss: 0.0984 - accuracy: 0.9708 - val_loss: 0.0492 - val_accuracy: 0.9850\n",
            "Epoch 3/30\n",
            "439/439 - 222s - loss: 0.0779 - accuracy: 0.9777 - val_loss: 0.0365 - val_accuracy: 0.9900\n",
            "Epoch 4/30\n",
            "439/439 - 217s - loss: 0.0632 - accuracy: 0.9814 - val_loss: 0.0374 - val_accuracy: 0.9890\n",
            "Epoch 5/30\n",
            "439/439 - 216s - loss: 0.0603 - accuracy: 0.9820 - val_loss: 0.0345 - val_accuracy: 0.9910\n",
            "Epoch 6/30\n",
            "439/439 - 214s - loss: 0.0537 - accuracy: 0.9848 - val_loss: 0.0286 - val_accuracy: 0.9929\n",
            "Epoch 7/30\n",
            "439/439 - 214s - loss: 0.0508 - accuracy: 0.9860 - val_loss: 0.0326 - val_accuracy: 0.9919\n",
            "Epoch 8/30\n",
            "439/439 - 215s - loss: 0.0484 - accuracy: 0.9855 - val_loss: 0.0280 - val_accuracy: 0.9921\n",
            "Epoch 9/30\n",
            "439/439 - 213s - loss: 0.0491 - accuracy: 0.9860 - val_loss: 0.0268 - val_accuracy: 0.9921\n",
            "\n",
            "Epoch 00009: ReduceLROnPlateau reducing learning rate to 0.0005000000237487257.\n",
            "Epoch 10/30\n",
            "439/439 - 215s - loss: 0.0380 - accuracy: 0.9890 - val_loss: 0.0259 - val_accuracy: 0.9933\n",
            "Epoch 11/30\n",
            "439/439 - 218s - loss: 0.0354 - accuracy: 0.9905 - val_loss: 0.0251 - val_accuracy: 0.9931\n",
            "Epoch 12/30\n",
            "439/439 - 216s - loss: 0.0341 - accuracy: 0.9900 - val_loss: 0.0215 - val_accuracy: 0.9938\n",
            "Epoch 13/30\n",
            "439/439 - 217s - loss: 0.0333 - accuracy: 0.9899 - val_loss: 0.0292 - val_accuracy: 0.9933\n",
            "Epoch 14/30\n",
            "439/439 - 216s - loss: 0.0331 - accuracy: 0.9906 - val_loss: 0.0245 - val_accuracy: 0.9929\n",
            "Epoch 15/30\n",
            "439/439 - 215s - loss: 0.0343 - accuracy: 0.9893 - val_loss: 0.0236 - val_accuracy: 0.9926\n",
            "\n",
            "Epoch 00015: ReduceLROnPlateau reducing learning rate to 0.0002500000118743628.\n",
            "Epoch 16/30\n",
            "439/439 - 217s - loss: 0.0300 - accuracy: 0.9918 - val_loss: 0.0235 - val_accuracy: 0.9936\n",
            "Epoch 17/30\n",
            "439/439 - 215s - loss: 0.0277 - accuracy: 0.9921 - val_loss: 0.0235 - val_accuracy: 0.9943\n",
            "Epoch 18/30\n",
            "439/439 - 213s - loss: 0.0257 - accuracy: 0.9927 - val_loss: 0.0239 - val_accuracy: 0.9933\n",
            "Epoch 19/30\n",
            "439/439 - 211s - loss: 0.0255 - accuracy: 0.9922 - val_loss: 0.0279 - val_accuracy: 0.9936\n",
            "Epoch 20/30\n",
            "439/439 - 216s - loss: 0.0277 - accuracy: 0.9920 - val_loss: 0.0285 - val_accuracy: 0.9933\n",
            "\n",
            "Epoch 00020: ReduceLROnPlateau reducing learning rate to 0.0001250000059371814.\n",
            "Epoch 21/30\n",
            "439/439 - 213s - loss: 0.0250 - accuracy: 0.9929 - val_loss: 0.0235 - val_accuracy: 0.9938\n",
            "Epoch 22/30\n",
            "439/439 - 213s - loss: 0.0224 - accuracy: 0.9935 - val_loss: 0.0215 - val_accuracy: 0.9938\n",
            "Epoch 23/30\n",
            "439/439 - 209s - loss: 0.0230 - accuracy: 0.9933 - val_loss: 0.0211 - val_accuracy: 0.9945\n",
            "Epoch 24/30\n",
            "439/439 - 208s - loss: 0.0237 - accuracy: 0.9931 - val_loss: 0.0207 - val_accuracy: 0.9945\n",
            "Epoch 25/30\n",
            "439/439 - 208s - loss: 0.0235 - accuracy: 0.9930 - val_loss: 0.0231 - val_accuracy: 0.9940\n",
            "Epoch 26/30\n",
            "439/439 - 208s - loss: 0.0217 - accuracy: 0.9937 - val_loss: 0.0247 - val_accuracy: 0.9940\n",
            "\n",
            "Epoch 00026: ReduceLROnPlateau reducing learning rate to 6.25000029685907e-05.\n",
            "Epoch 27/30\n",
            "439/439 - 207s - loss: 0.0216 - accuracy: 0.9938 - val_loss: 0.0218 - val_accuracy: 0.9948\n",
            "Epoch 28/30\n",
            "439/439 - 207s - loss: 0.0217 - accuracy: 0.9937 - val_loss: 0.0214 - val_accuracy: 0.9952\n",
            "Epoch 29/30\n",
            "439/439 - 207s - loss: 0.0217 - accuracy: 0.9934 - val_loss: 0.0210 - val_accuracy: 0.9948\n",
            "Epoch 30/30\n",
            "439/439 - 207s - loss: 0.0213 - accuracy: 0.9937 - val_loss: 0.0200 - val_accuracy: 0.9948\n"
          ],
          "name": "stdout"
        }
      ]
    },
    {
      "cell_type": "code",
      "metadata": {
        "colab": {
          "base_uri": "https://localhost:8080/"
        },
        "id": "nJ3Fk2WYvCL2",
        "outputId": "fd3bf515-2bf8-41e0-ed07-d9ab843ee192"
      },
      "source": [
        "# Saving model\n",
        "model.save(\"/drive/My Drive/keras-cnn-model\")"
      ],
      "execution_count": 35,
      "outputs": [
        {
          "output_type": "stream",
          "text": [
            "INFO:tensorflow:Assets written to: /drive/My Drive/keras-cnn-model/assets\n"
          ],
          "name": "stdout"
        }
      ]
    },
    {
      "cell_type": "markdown",
      "metadata": {
        "id": "NkU70ogmIC7A"
      },
      "source": [
        "## Model Evaluation"
      ]
    },
    {
      "cell_type": "code",
      "metadata": {
        "id": "B8goSk6KNMFT",
        "colab": {
          "base_uri": "https://localhost:8080/",
          "height": 265
        },
        "outputId": "feb070b9-2745-4cff-dd26-10e098373676"
      },
      "source": [
        "# Plot loss curves and accuracy curves for training/val\n",
        "fig, ax = plt.subplots(2,1)\n",
        "ax[0].plot(history.history[\"loss\"], color = 'b', label = \"Training loss\")\n",
        "ax[0].plot(history.history[\"val_loss\"], color = 'r', label = \"validation loss\", axes = ax[0])\n",
        "legend = ax[0].legend(loc = 'best', shadow = True)\n",
        "\n",
        "ax[1].plot(history.history[\"accuracy\"], color ='b', label = \"Training accuracy\")\n",
        "ax[1].plot(history.history[\"val_accuracy\"], color= 'r',label = \"Validation accuracy\")\n",
        "legend = ax[1].legend(loc = \"best\", shadow = True)"
      ],
      "execution_count": 31,
      "outputs": [
        {
          "output_type": "display_data",
          "data": {
            "image/png": "[encoded data removed]",
            "text/plain": [
              "<Figure size 432x288 with 2 Axes>"
            ]
          },
          "metadata": {
            "tags": [],
            "needs_background": "light"
          }
        }
      ]
    },
    {
      "cell_type": "code",
      "metadata": {
        "id": "u9g06RUFR4oF"
      },
      "source": [
        "# Predict results8\n",
        "results = model.predict(test)\n",
        "results = np.argmax(results, axis = 1)\n",
        "results = pd.Series(results, name = \"Label\")"
      ],
      "execution_count": 32,
      "outputs": []
    },
    {
      "cell_type": "code",
      "metadata": {
        "id": "udtgYcifSGo3"
      },
      "source": [
        "submission = pd.concat([pd.Series(range(1, 28001), name = \"ImageId\"), results], axis = 1)\n",
        "submission.to_csv(\"/drive/My Drive/cnn_mnist_datagen-30-epochs.csv\", index = False)"
      ],
      "execution_count": 33,
      "outputs": []
    }
  ]
}